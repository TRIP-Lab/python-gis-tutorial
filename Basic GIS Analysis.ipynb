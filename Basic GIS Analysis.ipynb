{
 "cells": [
  {
   "cell_type": "code",
   "execution_count": 34,
   "metadata": {},
   "outputs": [],
   "source": [
    "import fiona\n",
    "from geopy.distance import distance\n",
    "from pyproj import Proj, transform\n",
    "from shapely.geometry import Point"
   ]
  },
  {
   "cell_type": "markdown",
   "metadata": {},
   "source": [
    "#### Read .geojson data"
   ]
  },
  {
   "cell_type": "code",
   "execution_count": 14,
   "metadata": {},
   "outputs": [],
   "source": [
    "locations = None  # initialize the variable since it should exist at the outermost \"scope\",\n",
    "                  # even if Python allows you to get away with not doing so\n",
    "with fiona.open('./data/location_history.geojson', 'r') as geojson_f:\n",
    "    locations = [row for row in geojson_f]  # \"list comprehension\": a very short for loop with some benefits"
   ]
  },
  {
   "cell_type": "markdown",
   "metadata": {},
   "source": [
    "#### Calculate the distance between each point"
   ]
  },
  {
   "cell_type": "code",
   "execution_count": 17,
   "metadata": {},
   "outputs": [],
   "source": [
    "last_c = None\n",
    "for c in locations:\n",
    "    if not last_c:\n",
    "        c['properties']['distanceM'] = 0.\n",
    "        last_c = c\n",
    "        continue\n",
    "    # Note: geopy handles lat/lon natively here, but this isn't common\n",
    "    c['properties']['distanceM'] = distance(last_c['geometry']['coordinates'],\n",
    "                                            c['geometry']['coordinates']).meters"
   ]
  },
  {
   "cell_type": "code",
   "execution_count": 20,
   "metadata": {},
   "outputs": [
    {
     "name": "stdout",
     "output_type": "stream",
     "text": [
      "2019-05-07T16:43:48 0.0\n",
      "2019-05-07T16:50:37 0.0\n",
      "2019-05-07T19:37:15 60.28111706536644\n",
      "2019-05-07T19:41:18 108.96574073875757\n",
      "2019-05-07T19:44:09 140.46941400256958\n",
      "2019-05-07T19:46:11 144.22624454671748\n",
      "2019-05-07T19:56:14 164.57780690010296\n",
      "2019-05-07T19:58:43 175.53619573993353\n",
      "2019-05-07T20:07:34 192.91778090663803\n",
      "2019-05-07T21:57:31 193.3359957549295\n",
      "2019-05-08T11:25:58 198.5514840649057\n",
      "2019-05-08T11:28:01 193.81766771319423\n",
      "2019-05-08T11:31:34 196.19026125660835\n",
      "2019-05-08T11:34:06 200.77956974908003\n",
      "2019-05-08T11:36:35 209.80085850003013\n",
      "2019-05-08T11:38:55 222.52867639898423\n",
      "2019-05-08T11:42:18 240.32333554724062\n",
      "2019-05-08T11:55:53 226.3677006293909\n",
      "2019-05-08T11:58:39 208.82659964785898\n",
      "2019-05-08T12:00:59 200.33942440523955\n"
     ]
    }
   ],
   "source": [
    "# show the distances of the first 20 points\n",
    "for idx, c in enumerate(locations):\n",
    "    if idx == 20:\n",
    "        break\n",
    "    print(c['properties']['timestamp'], c['properties']['distanceM'])"
   ]
  },
  {
   "cell_type": "markdown",
   "metadata": {},
   "source": [
    "#### Buffers & Intersection"
   ]
  },
  {
   "cell_type": "code",
   "execution_count": 43,
   "metadata": {},
   "outputs": [
    {
     "data": {
      "text/plain": [
       "False"
      ]
     },
     "execution_count": 43,
     "metadata": {},
     "output_type": "execute_result"
    }
   ],
   "source": [
    "proj_wgs84 = Proj(init='EPSG:4326')\n",
    "proj_utm18n = Proj(init='EPSG:32618')\n",
    "\n",
    "# project lat/lon to UTM 18N and create spatial point object\n",
    "first_lon, first_lat = locations[0]['geometry']['coordinates']\n",
    "first_utm = transform(proj_wgs84, proj_utm18n, first_lon, first_lat)\n",
    "first_point = Point(first_utm)\n",
    "\n",
    "last_lon, last_lat = locations[-1]['geometry']['coordinates']\n",
    "last_utm = transform(proj_wgs84, proj_utm18n, last_lon, last_lat)\n",
    "last_point = Point(last_utm)\n",
    "\n",
    "# create a buffer around first point and check for intersect with last point (likely False, depends on your data)\n",
    "first_point_buffer = first_point.buffer(50)\n",
    "first_point_buffer.intersects(last_point)"
   ]
  },
  {
   "cell_type": "code",
   "execution_count": 44,
   "metadata": {},
   "outputs": [
    {
     "data": {
      "text/plain": [
       "True"
      ]
     },
     "execution_count": 44,
     "metadata": {},
     "output_type": "execute_result"
    }
   ],
   "source": [
    "proj_wgs84 = Proj(init='EPSG:4326')\n",
    "proj_utm18n = Proj(init='EPSG:32618')\n",
    "\n",
    "# project lat/lon to UTM 18N and create spatial point object\n",
    "first_lon, first_lat = locations[4]['geometry']['coordinates']\n",
    "first_utm = transform(proj_wgs84, proj_utm18n, first_lon, first_lat)\n",
    "first_point = Point(first_utm)\n",
    "\n",
    "last_lon, last_lat = locations[5]['geometry']['coordinates']\n",
    "last_utm = transform(proj_wgs84, proj_utm18n, last_lon, last_lat)\n",
    "last_point = Point(last_utm)\n",
    "\n",
    "# create a buffer around point and check for intersect with consecutive point (likely True, you can\n",
    "# check the distanceM here)\n",
    "first_point_buffer = first_point.buffer(50)\n",
    "first_point_buffer.intersects(last_point)"
   ]
  }
 ],
 "metadata": {
  "kernelspec": {
   "display_name": "Python 3",
   "language": "python",
   "name": "python3"
  },
  "language_info": {
   "codemirror_mode": {
    "name": "ipython",
    "version": 3
   },
   "file_extension": ".py",
   "mimetype": "text/x-python",
   "name": "python",
   "nbconvert_exporter": "python",
   "pygments_lexer": "ipython3",
   "version": "3.7.3"
  }
 },
 "nbformat": 4,
 "nbformat_minor": 2
}
